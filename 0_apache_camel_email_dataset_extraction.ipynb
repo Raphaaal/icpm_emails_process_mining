{
  "nbformat": 4,
  "nbformat_minor": 0,
  "metadata": {
    "kernelspec": {
      "display_name": "Python 3",
      "language": "python",
      "name": "python3"
    },
    "language_info": {
      "codemirror_mode": {
        "name": "ipython",
        "version": 3
      },
      "file_extension": ".py",
      "mimetype": "text/x-python",
      "name": "python",
      "nbconvert_exporter": "python",
      "pygments_lexer": "ipython3",
      "version": "3.6.3"
    },
    "colab": {
      "name": "0_apache_camel_email_dataset_extraction.ipynb",
      "provenance": [],
      "collapsed_sections": []
    }
  },
  "cells": [
    {
      "cell_type": "markdown",
      "metadata": {
        "id": "9oaoGUdhRIp6"
      },
      "source": [
        "This notebook documents the extraction and formatting of 250 emails from the Apache Camel archives into a dataframe.\n",
        "\n",
        "The original 250 emails need to be downloaded in MBOX format. Their ground truth labels must be downloaded in CSV.\n",
        "\n",
        "The emails are available at http://mail-archives.apache.org/mod_mbox/camel-dev/201704.mbox/browser, over the period 2017-04-14 10:42:39 UTC to 2017-04-19 13:27:37 UTC. The labels are available at https://www.ncbi.nlm.nih.gov/pmc/articles/PMC6366754/ with extraction instructions."
      ]
    },
    {
      "cell_type": "code",
      "metadata": {
        "collapsed": true,
        "id": "-7nxFgqtRIqT"
      },
      "source": [
        "pathToEmails  = \".data/mailbox/\" # Original MBOX folder path\n",
        "pathToCleanup = \"data/camel_emails.csv\" # Output CSV path for extracted emails from MBOX\n",
        "keywords_labels_path = \"labels/keyword_labels.csv\" # Input path to original keywords labels CSV\n",
        "consensus_metalabels_path = \"labels/consensus_metalabels.csv\" # Input path to original labels CSV\n",
        "consensus_traces_path = \"labels/consensus_traces.csv\" # Input path to original instances labels CSV\n",
        "consensus_workflows_path = \"labels/consensus_workflows.csv\" # Input path to original workflows labels CSV\n",
        "workflows_construction_path = \"labels/workflows_construction.csv\" # Input path to original workflows construction CSV\n",
        "\n",
        "save_path_emails_df = \"data/camel_emails.csv\" # Output CSV path for extracted emails from MBOX\n",
        "save_path_final_df_csv = \"data/camel_emails_final_na_clean.csv\" # Output CSV path for final extracted emails and labels"
      ],
      "execution_count": null,
      "outputs": []
    },
    {
      "cell_type": "markdown",
      "metadata": {
        "heading_collapsed": true,
        "id": "-mFmDdnXRIqe"
      },
      "source": [
        "# Imports"
      ]
    },
    {
      "cell_type": "code",
      "metadata": {
        "collapsed": true,
        "hidden": true,
        "id": "wy6V4mB9RIqj"
      },
      "source": [
        "from tidyextractors.tidymbox import MboxExtractor\n",
        "import pandas as pd\n",
        "import datetime\n",
        "import pytz\n",
        "import csv\n",
        "import os\n",
        "import mailbox\n",
        "import re\n",
        "import pandas as pd"
      ],
      "execution_count": null,
      "outputs": []
    },
    {
      "cell_type": "markdown",
      "metadata": {
        "heading_collapsed": true,
        "id": "AfZLgA86RIqn"
      },
      "source": [
        "# Load emails"
      ]
    },
    {
      "cell_type": "code",
      "metadata": {
        "collapsed": true,
        "hidden": true,
        "id": "z81Ay31URIqp"
      },
      "source": [
        "keywords_labels = pd.read_csv(keywords_labels_path)\n",
        "consensus_metalabels = pd.read_csv(consensus_metalabels_path)\n",
        "consensus_traces = pd.read_csv(consensus_traces_path)\n",
        "consensus_workflows = pd.read_csv(consensus_workflows_path)\n",
        "workflows_construction = pd.read_csv(workflows_construction_path)"
      ],
      "execution_count": null,
      "outputs": []
    },
    {
      "cell_type": "code",
      "metadata": {
        "code_folding": [],
        "collapsed": true,
        "hidden": true,
        "id": "yudKSefPRIqt"
      },
      "source": [
        "# Email extraction functions from https://github.com/phildeutsch/mbox-analysis\n",
        "\n",
        "def clean_addresses(addresses, lookupcsv):\n",
        "    if addresses is None:\n",
        "        return []\n",
        "    addresses = addresses.replace(\"\\'\", \"\")\n",
        "    addressList = re.split('[,;]', addresses)\n",
        "    cleanList = []\n",
        "    for address in addressList:\n",
        "        cleanAddress = clean_address(address, lookupcsv)\n",
        "        cleanList.append(cleanAddress)\n",
        "    return cleanList\n",
        "\n",
        "def clean_address(address, lookupcsv):\n",
        "    address = address.replace(\"<\", \"\")\n",
        "    address = address.replace(\">\", \"\")\n",
        "    address = address.replace(\"\\\"\", \"\")\n",
        "    address = address.replace(\"\\n\", \" \")\n",
        "    address = address.replace(\"MAILER-DAEMON\", \"\")\n",
        "    address = address.lower().strip()\n",
        "\n",
        "    with open(lookupcsv, 'rt') as lookupfile:\n",
        "        lookupdata = lookupfile.readlines()\n",
        "    for line in lookupdata:\n",
        "        name = line.split(',')[0]\n",
        "        if address == name:\n",
        "            address = line.split(',')[-1].strip()\n",
        "\n",
        "    email = None\n",
        "    for word in address.split(' '):\n",
        "        emailRegex = re.compile(\n",
        "            \"^[a-zA-Z0-9._%-]+@[a-zA-Z0-9._%-]+.[a-zA-Z]{2,6}$\"\n",
        "            )\n",
        "        email = re.match(emailRegex, word)\n",
        "        if email is not None:\n",
        "            cleanEmail = email.group(0)\n",
        "    if email is None:\n",
        "        if address.split(' ')[-1].find('@') > -1:\n",
        "            cleanEmail = address.split(' ')[-1].strip()\n",
        "        elif address.split(' ')[-1].find('?') > -1:\n",
        "            cleanEmail = 'n/a'\n",
        "        else:\n",
        "            cleanEmail = address\n",
        "              \n",
        "    return cleanEmail\n",
        "\n",
        "def get_body(message):\n",
        "    try:\n",
        "        sm = str(message)\n",
        "        body = sm\n",
        "        body = body.replace(\"=20\\n\", \"\")\n",
        "        body = body.replace(\"=FC\", \"ü\")\n",
        "        body = body.replace(\"=F6\", \"ö\")\n",
        "        body = body.replace(\"=84\", \"\\\"\")\n",
        "        body = body.replace(\"=94\", \"\\\"\")\n",
        "        body = body.replace(\"=96\", \"-\")\n",
        "        body = body.replace(\"=92\", \"\\'\")\n",
        "        body = body.replace(\"=93\", \"\\\"\")\n",
        "        body = body.replace(\"=E4\", \"ä\")\n",
        "        body = body.replace(\"=DF\", \"ss\")\n",
        "        body = body.replace(\"=\", \"\")\n",
        "        body = body.replace(\"\\\"\", \"\")\n",
        "        body = body.replace(\"\\'\", \"\")\n",
        "    except:\n",
        "        body = \"N/A\"\n",
        "    \n",
        "    return body\n",
        "\n",
        "def write_table(mboxfile, mailTable, pathToCleanup):\n",
        "    for message in mailbox.mbox(mboxfile):\n",
        "        cleanFrom = clean_address(message['From'], pathToCleanup)\n",
        "        cleanTo = clean_addresses(message['To'], pathToCleanup)\n",
        "        cleanCc = clean_addresses(message['Cc'], pathToCleanup)\n",
        "        mailTable.append([\n",
        "            cleanFrom,\n",
        "            cleanTo,\n",
        "            cleanCc,\n",
        "            message['Date'],\n",
        "            message['Subject'],\n",
        "            get_body(message)\n",
        "            ])"
      ],
      "execution_count": null,
      "outputs": []
    },
    {
      "cell_type": "markdown",
      "metadata": {
        "hidden": true,
        "id": "vtVQ0Wi7RIq4"
      },
      "source": [
        "Extract MBOX files into dataframe."
      ]
    },
    {
      "cell_type": "code",
      "metadata": {
        "collapsed": true,
        "hidden": true,
        "id": "OKtF30qGRIq9"
      },
      "source": [
        "mboxfiles = [os.path.join(dirpath, f) for dirpath, dirnames, files in os.walk(pathToEmails) for f in files if f.endswith('mbox')]\n",
        "mailTable = []\n",
        "\n",
        "for mboxfile in mboxfiles:\n",
        "    write_table(mboxfile, mailTable, pathToCleanup)\n",
        "\n",
        "email_df = pd.DataFrame(mailTable)\n",
        "email_df.columns = ['From', 'To', 'Cc', 'Date', 'Subject', 'Body']\n",
        "email_df['NumTo'] = email_df['To'].map(lambda i: len(i))"
      ],
      "execution_count": null,
      "outputs": []
    },
    {
      "cell_type": "markdown",
      "metadata": {
        "hidden": true,
        "id": "PcAbDcSARIrE"
      },
      "source": [
        "Clean dataframe."
      ]
    },
    {
      "cell_type": "code",
      "metadata": {
        "hidden": true,
        "scrolled": false,
        "id": "xHhGIU5sRIrI",
        "outputId": "cfaa24bd-9c06-4699-9c82-508ad3c95bd6"
      },
      "source": [
        "email_clean = email_df[['Date', 'From', 'To', 'Subject', 'Body']]\n",
        "\n",
        "# Isolate various date string format and normalize\n",
        "email_clean_date_without_tz_single_digits = email_clean[email_clean.Date.str.len() == 30]\n",
        "email_clean_date_without_tz_single_digits['Date'] = email_clean_date_without_tz_single_digits.Date.str[:5] + '0' + email_clean_date_without_tz_single_digits.Date.str[5:]\n",
        "email_clean_date_without_tz_double_digits = email_clean[email_clean.Date.str.len() == 31]\n",
        "email_clean_date_with_tz_single_digits = email_clean[email_clean.Date.str.len() == 36]\n",
        "email_clean_date_with_tz_single_digits['Date'] = email_clean_date_with_tz_single_digits.Date.str[:5] + '0' + email_clean_date_with_tz_single_digits.Date.str[5:30]\n",
        "email_clean_date_with_tz_double_digits = email_clean[email_clean.Date.str.len() == 37]\n",
        "email_clean_date_with_tz_double_digits['Date'] = email_clean_date_with_tz_double_digits.Date.str.replace(\"  \", ' 0', regex=False)\n",
        "email_clean_date_with_tz_double_digits['Date'] = email_clean_date_with_tz_double_digits.Date.str[:31]\n",
        "\n",
        "# Convert to datetime\n",
        "email_clean_date_without_tz_single_digits['Date'] = pd.to_datetime(email_clean_date_without_tz_single_digits['Date'], format='%a, %d %b %Y %H:%M:%S %z', errors='coerce')\n",
        "email_clean_date_without_tz_double_digits['Date'] = pd.to_datetime(email_clean_date_without_tz_double_digits['Date'], format='%a, %d %b %Y %H:%M:%S %z', errors='coerce')\n",
        "email_clean_date_with_tz_single_digits['Date'] = pd.to_datetime(email_clean_date_with_tz_single_digits['Date'], format='%a, %d %b %Y %H:%M:%S %z', errors='coerce')\n",
        "email_clean_date_with_tz_double_digits['Date'] = pd.to_datetime(email_clean_date_with_tz_double_digits['Date'], format='%a, %d %b %Y %H:%M:%S %z', errors='coerce')\n",
        "\n",
        "# Concatenate dfs\n",
        "email_clean = pd.concat([\n",
        "    email_clean_date_without_tz_single_digits,\n",
        "    email_clean_date_without_tz_double_digits,\n",
        "    email_clean_date_with_tz_single_digits, \n",
        "    email_clean_date_with_tz_double_digits\n",
        "])\n",
        "\n",
        "# Filter time interval\n",
        "email_clean = email_clean[\n",
        "    (email_clean['Date'] >= datetime.datetime(2017, 4, 14, 10, 42, 39, 0, pytz.UTC)) &\n",
        "    (email_clean['Date'] <= datetime.datetime(2017, 4, 19, 13, 27, 37, 0, pytz.UTC))\n",
        "]"
      ],
      "execution_count": null,
      "outputs": [
        {
          "output_type": "stream",
          "text": [
            "C:\\Users\\patafilm\\Anaconda3\\lib\\site-packages\\ipykernel_launcher.py:5: SettingWithCopyWarning: \n",
            "A value is trying to be set on a copy of a slice from a DataFrame.\n",
            "Try using .loc[row_indexer,col_indexer] = value instead\n",
            "\n",
            "See the caveats in the documentation: https://pandas.pydata.org/pandas-docs/stable/user_guide/indexing.html#returning-a-view-versus-a-copy\n",
            "  \"\"\"\n",
            "C:\\Users\\patafilm\\Anaconda3\\lib\\site-packages\\ipykernel_launcher.py:8: SettingWithCopyWarning: \n",
            "A value is trying to be set on a copy of a slice from a DataFrame.\n",
            "Try using .loc[row_indexer,col_indexer] = value instead\n",
            "\n",
            "See the caveats in the documentation: https://pandas.pydata.org/pandas-docs/stable/user_guide/indexing.html#returning-a-view-versus-a-copy\n",
            "  \n",
            "C:\\Users\\patafilm\\Anaconda3\\lib\\site-packages\\ipykernel_launcher.py:10: SettingWithCopyWarning: \n",
            "A value is trying to be set on a copy of a slice from a DataFrame.\n",
            "Try using .loc[row_indexer,col_indexer] = value instead\n",
            "\n",
            "See the caveats in the documentation: https://pandas.pydata.org/pandas-docs/stable/user_guide/indexing.html#returning-a-view-versus-a-copy\n",
            "  # Remove the CWD from sys.path while we load stuff.\n",
            "C:\\Users\\patafilm\\Anaconda3\\lib\\site-packages\\ipykernel_launcher.py:11: SettingWithCopyWarning: \n",
            "A value is trying to be set on a copy of a slice from a DataFrame.\n",
            "Try using .loc[row_indexer,col_indexer] = value instead\n",
            "\n",
            "See the caveats in the documentation: https://pandas.pydata.org/pandas-docs/stable/user_guide/indexing.html#returning-a-view-versus-a-copy\n",
            "  # This is added back by InteractiveShellApp.init_path()\n",
            "C:\\Users\\patafilm\\Anaconda3\\lib\\site-packages\\ipykernel_launcher.py:14: SettingWithCopyWarning: \n",
            "A value is trying to be set on a copy of a slice from a DataFrame.\n",
            "Try using .loc[row_indexer,col_indexer] = value instead\n",
            "\n",
            "See the caveats in the documentation: https://pandas.pydata.org/pandas-docs/stable/user_guide/indexing.html#returning-a-view-versus-a-copy\n",
            "  \n",
            "C:\\Users\\patafilm\\Anaconda3\\lib\\site-packages\\ipykernel_launcher.py:15: SettingWithCopyWarning: \n",
            "A value is trying to be set on a copy of a slice from a DataFrame.\n",
            "Try using .loc[row_indexer,col_indexer] = value instead\n",
            "\n",
            "See the caveats in the documentation: https://pandas.pydata.org/pandas-docs/stable/user_guide/indexing.html#returning-a-view-versus-a-copy\n",
            "  from ipykernel import kernelapp as app\n",
            "C:\\Users\\patafilm\\Anaconda3\\lib\\site-packages\\ipykernel_launcher.py:16: SettingWithCopyWarning: \n",
            "A value is trying to be set on a copy of a slice from a DataFrame.\n",
            "Try using .loc[row_indexer,col_indexer] = value instead\n",
            "\n",
            "See the caveats in the documentation: https://pandas.pydata.org/pandas-docs/stable/user_guide/indexing.html#returning-a-view-versus-a-copy\n",
            "  app.launch_new_instance()\n",
            "C:\\Users\\patafilm\\Anaconda3\\lib\\site-packages\\ipykernel_launcher.py:17: SettingWithCopyWarning: \n",
            "A value is trying to be set on a copy of a slice from a DataFrame.\n",
            "Try using .loc[row_indexer,col_indexer] = value instead\n",
            "\n",
            "See the caveats in the documentation: https://pandas.pydata.org/pandas-docs/stable/user_guide/indexing.html#returning-a-view-versus-a-copy\n"
          ],
          "name": "stderr"
        }
      ]
    },
    {
      "cell_type": "markdown",
      "metadata": {
        "hidden": true,
        "id": "4yvOGK1NRIrb"
      },
      "source": [
        "Compute email ID for future join with labels."
      ]
    },
    {
      "cell_type": "code",
      "metadata": {
        "collapsed": true,
        "hidden": true,
        "id": "IY8X-7USRIrf"
      },
      "source": [
        "email_clean = email_clean.sort_values('Date')\n",
        "email_clean = email_clean.reset_index()\n",
        "email_clean.insert(0, 'Email_ID', range(1, len(email_clean)+1))\n",
        "\n",
        "# Re arrange Email_ID for emails with the same timestamp\n",
        "email_clean.at[33-1, 'Email_ID'] = 34\n",
        "email_clean.at[34-1, 'Email_ID'] = 33\n",
        "\n",
        "email_clean.at[78-1, 'Email_ID'] = 79\n",
        "email_clean.at[79-1, 'Email_ID'] = 78\n",
        "\n",
        "email_clean.at[84-1, 'Email_ID'] = 85\n",
        "email_clean.at[85-1, 'Email_ID'] = 84\n",
        "\n",
        "email_clean.at[164-1, 'Email_ID'] = 165\n",
        "email_clean.at[165-1, 'Email_ID'] = 164\n",
        "\n",
        "email_clean.at[168-1, 'Email_ID'] = 170\n",
        "email_clean.at[170-1, 'Email_ID'] = 168\n"
      ],
      "execution_count": null,
      "outputs": []
    },
    {
      "cell_type": "markdown",
      "metadata": {
        "collapsed": true,
        "hidden": true,
        "id": "2xbpeafVRIrl"
      },
      "source": [
        "Save the clean dataframe."
      ]
    },
    {
      "cell_type": "code",
      "metadata": {
        "collapsed": true,
        "hidden": true,
        "id": "NL4jJ8gzRIrn"
      },
      "source": [
        "email_clean.to_csv(save_path_emails_df, index=False, quoting=csv.QUOTE_ALL)"
      ],
      "execution_count": null,
      "outputs": []
    },
    {
      "cell_type": "markdown",
      "metadata": {
        "heading_collapsed": true,
        "id": "7NQXxDSsRIrp"
      },
      "source": [
        "# Format emails"
      ]
    },
    {
      "cell_type": "markdown",
      "metadata": {
        "heading_collapsed": true,
        "hidden": true,
        "id": "Jd2zFkBORIrq"
      },
      "source": [
        "## Format email body"
      ]
    },
    {
      "cell_type": "code",
      "metadata": {
        "collapsed": true,
        "hidden": true,
        "id": "qBWXiEkpRIrr"
      },
      "source": [
        "def body_extract(x):\n",
        "    if x['len_body'] > 1:\n",
        "        return x['Body_clean'][1] \n",
        "    return x['Body_clean'][0]"
      ],
      "execution_count": null,
      "outputs": []
    },
    {
      "cell_type": "markdown",
      "metadata": {
        "hidden": true,
        "id": "7PQUInILRIrs"
      },
      "source": [
        "Remove subject line from body."
      ]
    },
    {
      "cell_type": "code",
      "metadata": {
        "collapsed": true,
        "hidden": true,
        "id": "rj80LeM6RIrt"
      },
      "source": [
        "test = email_clean.copy()\n",
        "test['Body_original'] = test['Body'] \n",
        "test['Body_clean'] = test['Body'] "
      ],
      "execution_count": null,
      "outputs": []
    },
    {
      "cell_type": "markdown",
      "metadata": {
        "hidden": true,
        "id": "RZyhB4xXRIru"
      },
      "source": [
        "Remove line breaks and body meta data."
      ]
    },
    {
      "cell_type": "code",
      "metadata": {
        "hidden": true,
        "id": "r8WUTA-5RIrw",
        "outputId": "8973bf2f-1fb8-4e36-8ce2-98bc12ecd8fa"
      },
      "source": [
        "# \"Commits\" emails body cleaning.\n",
        "mask_commits = test['To'].apply(lambda x: 'commits@camel.apache.org' in x)\n",
        "test_commits = test[mask_commits]\n",
        "test_commits['Body_clean'] = test_commits['Body_clean'].map(lambda x : x[x.find('\\nSubject:', 0):] if x.find('\\nSubject:', 0) >=0 else x )\n",
        "\n",
        "# \"Dev\" emails body cleaning\n",
        "mask_dev = test['To'].apply(lambda x: 'dev@camel.apache.org' in x)\n",
        "test_dev = test[mask_dev]\n",
        "test_dev['Body_clean'] = test_dev['Body_clean'].map(lambda x : x[x.find('\\nSubject:', 0):] if x.find('\\nSubject:', 0) >=0 else x )\n",
        "\n",
        "# \"Issues\" emails body cleaning\n",
        "mask_issues = test['To'].apply(lambda x: 'issues@camel.apache.org' in x)\n",
        "test_issues = test[mask_issues]\n",
        "test_issues['Body_clean'] = test_issues['Body_clean'].map(lambda x : x[x.find('\\nSubject:', 0):] if x.find('\\nSubject:', 0) >=0 else x )\n",
        "\n",
        "# \"Users\" emails body cleaning\n",
        "mask_users = test['To'].apply(lambda x: 'users@camel.apache.org' in x)\n",
        "test_users = test[mask_users]\n",
        "test_users['Body_clean'] = test_users['Body_clean'].map(lambda x : x[x.find('\\nSubject:', 0):] if x.find('\\nSubject:', 0) >=0 else x )\n",
        "\n",
        "# Join cleaned emails dfs\n",
        "test_df = pd.concat([\n",
        "    test_commits,\n",
        "    test_dev,\n",
        "    test_issues,\n",
        "    test_users\n",
        "])\n",
        "test_df = test_df.replace('\\\\n',' ', regex=True) \n",
        "test_df = test_df.replace('\\n>',' ', regex=True) \n",
        "test_df = test_df.replace('\\n',' ', regex=True) "
      ],
      "execution_count": null,
      "outputs": [
        {
          "output_type": "stream",
          "text": [
            "C:\\Users\\patafilm\\Anaconda3\\lib\\site-packages\\ipykernel_launcher.py:4: SettingWithCopyWarning: \n",
            "A value is trying to be set on a copy of a slice from a DataFrame.\n",
            "Try using .loc[row_indexer,col_indexer] = value instead\n",
            "\n",
            "See the caveats in the documentation: https://pandas.pydata.org/pandas-docs/stable/user_guide/indexing.html#returning-a-view-versus-a-copy\n",
            "  after removing the cwd from sys.path.\n",
            "C:\\Users\\patafilm\\Anaconda3\\lib\\site-packages\\ipykernel_launcher.py:9: SettingWithCopyWarning: \n",
            "A value is trying to be set on a copy of a slice from a DataFrame.\n",
            "Try using .loc[row_indexer,col_indexer] = value instead\n",
            "\n",
            "See the caveats in the documentation: https://pandas.pydata.org/pandas-docs/stable/user_guide/indexing.html#returning-a-view-versus-a-copy\n",
            "  if __name__ == '__main__':\n",
            "C:\\Users\\patafilm\\Anaconda3\\lib\\site-packages\\ipykernel_launcher.py:14: SettingWithCopyWarning: \n",
            "A value is trying to be set on a copy of a slice from a DataFrame.\n",
            "Try using .loc[row_indexer,col_indexer] = value instead\n",
            "\n",
            "See the caveats in the documentation: https://pandas.pydata.org/pandas-docs/stable/user_guide/indexing.html#returning-a-view-versus-a-copy\n",
            "  \n",
            "C:\\Users\\patafilm\\Anaconda3\\lib\\site-packages\\ipykernel_launcher.py:19: SettingWithCopyWarning: \n",
            "A value is trying to be set on a copy of a slice from a DataFrame.\n",
            "Try using .loc[row_indexer,col_indexer] = value instead\n",
            "\n",
            "See the caveats in the documentation: https://pandas.pydata.org/pandas-docs/stable/user_guide/indexing.html#returning-a-view-versus-a-copy\n"
          ],
          "name": "stderr"
        }
      ]
    },
    {
      "cell_type": "markdown",
      "metadata": {
        "heading_collapsed": true,
        "hidden": true,
        "id": "iS845aP_RIr1"
      },
      "source": [
        "## Add email labels"
      ]
    },
    {
      "cell_type": "markdown",
      "metadata": {
        "collapsed": true,
        "hidden": true,
        "id": "YOZsNmn6RIr3"
      },
      "source": [
        "Join the downloaded labels, based on email ID."
      ]
    },
    {
      "cell_type": "code",
      "metadata": {
        "collapsed": true,
        "hidden": true,
        "id": "ZE3cXwGLRIr4"
      },
      "source": [
        "email_final = test_df\n",
        "email_final = email_final.merge(\n",
        "    keywords_labels, on='Email_ID', how='left'\n",
        ").merge(\n",
        "    consensus_metalabels, on='Email_ID', how='left'\n",
        ").merge(\n",
        "    workflows_construction.rename(columns={'Date': 'Date_authors'}), on='Email_ID', how='left'\n",
        ").merge(\n",
        "    consensus_traces, on='Trace_ID', how='left'\n",
        ").merge(\n",
        "    consensus_workflows.rename(columns={'Trace': 'Trace_ID'}), on='Trace_ID', how='left'\n",
        ")"
      ],
      "execution_count": null,
      "outputs": []
    },
    {
      "cell_type": "markdown",
      "metadata": {
        "heading_collapsed": true,
        "hidden": true,
        "id": "arh08-oLRIr7"
      },
      "source": [
        "## Handle NaN"
      ]
    },
    {
      "cell_type": "code",
      "metadata": {
        "collapsed": true,
        "hidden": true,
        "id": "ttpF4LbjRIr8"
      },
      "source": [
        "# Replace missing email body by subject line\n",
        "df = email_final.copy()\n",
        "na_body = df[df.Body.isna()]\n",
        "df_without_na_body = df[~df.Body.isna()]\n",
        "cols = ['Subject']\n",
        "na_body['Body_clean'] = na_body[cols].apply(lambda row: '. '.join(row.values.astype(str)), axis=1)\n",
        "final_df = pd.concat([na_body, df_without_na_body])\n",
        "\n",
        "# Clean email body on two specific unstructured instances\n",
        "body_clean_82 = \"Hi, Caused by: java.io.FileNotFoundException: E:\\XXX\\XXXX\\XX\\XXXX-000001-XXX.zip (Access is denied) This looks as if the process running your camel route does not have access to the directory containing the file (it would need execution rights on the directory). Best regards Stephan -----Original Message----- From: chandangowda [mailto:cgowda299@gmail.com] Sent: Montag, 17. April 2017 12:09 To: users@camel.apache.org Subject: Camel not able to delete files Outside .camel From one route I’m reading ZIP files after successful completion of reading of files,camel not able to delete those files i.e. after moving files inside .camel from outside .camel and throughing following exception.This issue happened only for  first 21 records  out of 1000 records.Please replay ASAP. Stack trace org.apache.camel.component.file.GenericFileOperationFailedException: Cannot store file: E:\\XX\\XX\\XXXX\\XXXXX-000001-XXXX.zip at org.apache.camel.component.file.FileOperations.storeFile(FileOperations.java:269) at org.apache.camel.component.file.GenericFileProducer.writeFile(GenericFileProducer.java:278) at org.apache.camel.component.file.GenericFileProducer.processExchange(GenericFileProducer.java:166) at org.apache.camel.component.file.GenericFileProducer.process(GenericFileProducer.java:80) at org.apache.camel.util.AsyncProcessorConverterHelper$ProcessorToAsyncProcessorBridge.process(AsyncProcessorConverterHelper.java:61) at org.apache.camel.processor.SendProcessor.process(SendProcessor.java:110) at org.apache.camel.management.InstrumentationProcessor.process(InstrumentationProcessor.java:72) at org.apache.camel.processor.RedeliveryErrorHandler.process(RedeliveryErrorHandler.java:398) at org.apache.camel.processor.CamelInternalProcessor.process(CamelInternalProcessor.java:191) at org.apache.camel.processor.CamelInternalProcessor.process(CamelInternalProcessor.java:191) at org.apache.camel.component.file.GenericFileConsumer.processExchange(GenericFileConsumer.java:401) at org.apache.camel.component.file.GenericFileConsumer.processBatch(GenericFileConsumer.java:201) at org.apache.camel.component.file.GenericFileConsumer.poll(GenericFileConsumer.java:165) at org.apache.camel.impl.ScheduledPollConsumer.doRun(ScheduledPollConsumer.java:187) at org.apache.camel.impl.ScheduledPollConsumer.run(ScheduledPollConsumer.java:114) at java.util.concurrent.Executors$RunnableAdapter.call(Executors.java:471) at java.util.concurrent.FutureTask.runAndReset(FutureTask.java:304) at java.util.concurrent.ScheduledThreadPoolExecutor$ScheduledFutureTask.access$301(ScheduledThreadPoolExecutor.java:178) at java.util.concurrent.ScheduledThreadPoolExecutor$ScheduledFutureTask.run(ScheduledThreadPoolExecutor.java:293) at java.util.concurrent.ThreadPoolExecutor.runWorker(ThreadPoolExecutor.java:1145) at java.util.concurrent.ThreadPoolExecutor$Worker.run(ThreadPoolExecutor.java:615) at java.lang.Thread.run(Thread.java:745) Caused by: java.io.FileNotFoundException: E:\\XXX\\XXXX\\XX\\XXXX-000001-XXX.zip (Access is denied) at java.io.FileOutputStream.open(Native Method) at java.io.FileOutputStream.<init>(FileOutputStream.java:221) at java.io.FileOutputStream.<init>(FileOutputStream.java:171) at org.apache.camel.component.file.FileOperations.prepareOutputFileChannel(FileOperations.java:430) at org.apache.camel.component.file.FileOperations.writeFileByFile(FileOperations.java:353) at org.apache.camel.component.file.FileOperations.storeFile(FileOperations.java:242) ... 21 more -- View this message in context: http://camel.465427.n5.nabble.com/Camel-not-able-to-delete-files-Outside-camel-tp5797768.html Sent from the Camel - Users mailing list archive at Nabble.com.\"\n",
        "final_df.at[final_df[final_df['Email_ID'] == 82].index[0], 'Body_clean'] = body_clean_82\n",
        "na_body_clean = final_df[final_df.Body_clean.isna()]\n",
        "df_without_na_body_clean = final_df[~final_df.Body_clean.isna()]\n",
        "na_body_clean['Body_clean'] = na_body_clean['Body'].str[3100:]\n",
        "final_df_no_na = pd.concat([na_body_clean, df_without_na_body_clean])"
      ],
      "execution_count": null,
      "outputs": []
    },
    {
      "cell_type": "markdown",
      "metadata": {
        "id": "zzO4DBtwRIsB"
      },
      "source": [
        "# Save and sanity checks"
      ]
    },
    {
      "cell_type": "code",
      "metadata": {
        "id": "FWTVQKqIRIsD",
        "outputId": "59373221-1712-4eae-f62d-97ea48d7c4e0"
      },
      "source": [
        "final_df_no_na.to_csv(save_path_final_df_csv, index=False, quoting=csv.QUOTE_ALL)\n",
        "df = pd.read_csv(save_path_final_df_csv, quoting=csv.QUOTE_ALL)\n",
        "\n",
        "print(df.shape)"
      ],
      "execution_count": null,
      "outputs": [
        {
          "output_type": "stream",
          "text": [
            "(250, 62)\n"
          ],
          "name": "stdout"
        }
      ]
    },
    {
      "cell_type": "code",
      "metadata": {
        "id": "VANGMkuuRIsG",
        "outputId": "a0bec912-55bd-46a3-a152-b84d08d2137a"
      },
      "source": [
        "df[['Email_ID', 'Date', 'From', 'To', 'Subject', 'Body_clean', 'Trace_ID', 'Action']].sort_values('Date')"
      ],
      "execution_count": null,
      "outputs": [
        {
          "output_type": "execute_result",
          "data": {
            "text/html": [
              "<div>\n",
              "<style scoped>\n",
              "    .dataframe tbody tr th:only-of-type {\n",
              "        vertical-align: middle;\n",
              "    }\n",
              "\n",
              "    .dataframe tbody tr th {\n",
              "        vertical-align: top;\n",
              "    }\n",
              "\n",
              "    .dataframe thead th {\n",
              "        text-align: right;\n",
              "    }\n",
              "</style>\n",
              "<table border=\"1\" class=\"dataframe\">\n",
              "  <thead>\n",
              "    <tr style=\"text-align: right;\">\n",
              "      <th></th>\n",
              "      <th>Email_ID</th>\n",
              "      <th>Date</th>\n",
              "      <th>From</th>\n",
              "      <th>To</th>\n",
              "      <th>Subject</th>\n",
              "      <th>Body_clean</th>\n",
              "      <th>Trace_ID</th>\n",
              "      <th>Action</th>\n",
              "    </tr>\n",
              "  </thead>\n",
              "  <tbody>\n",
              "    <tr>\n",
              "      <th>211</th>\n",
              "      <td>43</td>\n",
              "      <td>2017-04-14 10:15:23-07:00</td>\n",
              "      <td>revathykuberan@gmail.com</td>\n",
              "      <td>['users@camel.apache.org']</td>\n",
              "      <td>Re: Multiple from end points traversing to dif...</td>\n",
              "      <td>Subject: Re: Multiple from end points travers...</td>\n",
              "      <td>9</td>\n",
              "      <td>ask a question</td>\n",
              "    </tr>\n",
              "    <tr>\n",
              "      <th>0</th>\n",
              "      <td>1</td>\n",
              "      <td>2017-04-14 10:42:39+00:00</td>\n",
              "      <td>lburgazzoli@apache.org</td>\n",
              "      <td>['commits@camel.apache.org']</td>\n",
              "      <td>camel git commit: HeaderSelectorProducer to su...</td>\n",
              "      <td>Subject: camel git commit: HeaderSelectorProd...</td>\n",
              "      <td>1</td>\n",
              "      <td>commit changes</td>\n",
              "    </tr>\n",
              "    <tr>\n",
              "      <th>1</th>\n",
              "      <td>2</td>\n",
              "      <td>2017-04-14 10:52:55+00:00</td>\n",
              "      <td>davsclaus@apache.org</td>\n",
              "      <td>['commits@camel.apache.org']</td>\n",
              "      <td>[1/6] camel git commit: Rename catalog to runt...</td>\n",
              "      <td>Subject: [1/6] camel git commit: Rename catal...</td>\n",
              "      <td>2</td>\n",
              "      <td>commit changes</td>\n",
              "    </tr>\n",
              "    <tr>\n",
              "      <th>2</th>\n",
              "      <td>3</td>\n",
              "      <td>2017-04-14 10:52:56+00:00</td>\n",
              "      <td>davsclaus@apache.org</td>\n",
              "      <td>['commits@camel.apache.org']</td>\n",
              "      <td>[2/6] camel git commit: Rename catalog to runt...</td>\n",
              "      <td>Subject: [2/6] camel git commit: Rename catal...</td>\n",
              "      <td>2</td>\n",
              "      <td>commit changes</td>\n",
              "    </tr>\n",
              "    <tr>\n",
              "      <th>3</th>\n",
              "      <td>4</td>\n",
              "      <td>2017-04-14 10:52:57+00:00</td>\n",
              "      <td>davsclaus@apache.org</td>\n",
              "      <td>['commits@camel.apache.org']</td>\n",
              "      <td>[3/6] camel git commit: Rename catalog to runt...</td>\n",
              "      <td>Subject: [3/6] camel git commit: Rename catal...</td>\n",
              "      <td>2</td>\n",
              "      <td>commit changes</td>\n",
              "    </tr>\n",
              "    <tr>\n",
              "      <th>...</th>\n",
              "      <td>...</td>\n",
              "      <td>...</td>\n",
              "      <td>...</td>\n",
              "      <td>...</td>\n",
              "      <td>...</td>\n",
              "      <td>...</td>\n",
              "      <td>...</td>\n",
              "      <td>...</td>\n",
              "    </tr>\n",
              "    <tr>\n",
              "      <th>118</th>\n",
              "      <td>239</td>\n",
              "      <td>2017-04-19 14:21:57+02:00</td>\n",
              "      <td>lburgazzoli@gmail.com</td>\n",
              "      <td>['dev@camel.apache.org']</td>\n",
              "      <td>Re: Camel 2.19 Roadmap</td>\n",
              "      <td>Subject: Re: Camel 2.19 Roadmap To: dev@camel...</td>\n",
              "      <td>24</td>\n",
              "      <td>version release planning</td>\n",
              "    </tr>\n",
              "    <tr>\n",
              "      <th>244</th>\n",
              "      <td>242</td>\n",
              "      <td>2017-04-19 14:29:00+02:00</td>\n",
              "      <td>claus.ibsen@gmail.com</td>\n",
              "      <td>['users@camel.apache.org']</td>\n",
              "      <td>Re: Spring Boot &gt; 1.5 fails when camel-swagger...</td>\n",
              "      <td>Subject: Re: Spring Boot &gt; 1.5 fails when cam...</td>\n",
              "      <td>64</td>\n",
              "      <td>ask a question</td>\n",
              "    </tr>\n",
              "    <tr>\n",
              "      <th>247</th>\n",
              "      <td>247</td>\n",
              "      <td>2017-04-19 14:35:40+02:00</td>\n",
              "      <td>zoran@regvart.com</td>\n",
              "      <td>['users@camel.apache.org']</td>\n",
              "      <td>Re: Spring Boot &gt; 1.5 fails when camel-swagger...</td>\n",
              "      <td>Subject: Re: Spring Boot &gt; 1.5 fails when cam...</td>\n",
              "      <td>64</td>\n",
              "      <td>provide support</td>\n",
              "    </tr>\n",
              "    <tr>\n",
              "      <th>249</th>\n",
              "      <td>249</td>\n",
              "      <td>2017-04-19 15:27:36+02:00</td>\n",
              "      <td>claus.ibsen@gmail.com</td>\n",
              "      <td>['users@camel.apache.org']</td>\n",
              "      <td>Re: Spring Boot &gt; 1.5 fails when camel-swagger...</td>\n",
              "      <td>Subject: Re: Spring Boot &gt; 1.5 fails when cam...</td>\n",
              "      <td>64</td>\n",
              "      <td>ask a question</td>\n",
              "    </tr>\n",
              "    <tr>\n",
              "      <th>120</th>\n",
              "      <td>250</td>\n",
              "      <td>2017-04-19 15:27:37+02:00</td>\n",
              "      <td>zoran@regvart.com</td>\n",
              "      <td>['dev@camel.apache.org']</td>\n",
              "      <td>Re: FLOSS Weekly podcast</td>\n",
              "      <td>Subject: Re: FLOSS Weekly podcast To: dev@cam...</td>\n",
              "      <td>65</td>\n",
              "      <td>publicity</td>\n",
              "    </tr>\n",
              "  </tbody>\n",
              "</table>\n",
              "<p>250 rows × 8 columns</p>\n",
              "</div>"
            ],
            "text/plain": [
              "     Email_ID                       Date                      From  \\\n",
              "211        43  2017-04-14 10:15:23-07:00  revathykuberan@gmail.com   \n",
              "0           1  2017-04-14 10:42:39+00:00    lburgazzoli@apache.org   \n",
              "1           2  2017-04-14 10:52:55+00:00      davsclaus@apache.org   \n",
              "2           3  2017-04-14 10:52:56+00:00      davsclaus@apache.org   \n",
              "3           4  2017-04-14 10:52:57+00:00      davsclaus@apache.org   \n",
              "..        ...                        ...                       ...   \n",
              "118       239  2017-04-19 14:21:57+02:00     lburgazzoli@gmail.com   \n",
              "244       242  2017-04-19 14:29:00+02:00     claus.ibsen@gmail.com   \n",
              "247       247  2017-04-19 14:35:40+02:00         zoran@regvart.com   \n",
              "249       249  2017-04-19 15:27:36+02:00     claus.ibsen@gmail.com   \n",
              "120       250  2017-04-19 15:27:37+02:00         zoran@regvart.com   \n",
              "\n",
              "                               To  \\\n",
              "211    ['users@camel.apache.org']   \n",
              "0    ['commits@camel.apache.org']   \n",
              "1    ['commits@camel.apache.org']   \n",
              "2    ['commits@camel.apache.org']   \n",
              "3    ['commits@camel.apache.org']   \n",
              "..                            ...   \n",
              "118      ['dev@camel.apache.org']   \n",
              "244    ['users@camel.apache.org']   \n",
              "247    ['users@camel.apache.org']   \n",
              "249    ['users@camel.apache.org']   \n",
              "120      ['dev@camel.apache.org']   \n",
              "\n",
              "                                               Subject  \\\n",
              "211  Re: Multiple from end points traversing to dif...   \n",
              "0    camel git commit: HeaderSelectorProducer to su...   \n",
              "1    [1/6] camel git commit: Rename catalog to runt...   \n",
              "2    [2/6] camel git commit: Rename catalog to runt...   \n",
              "3    [3/6] camel git commit: Rename catalog to runt...   \n",
              "..                                                 ...   \n",
              "118                             Re: Camel 2.19 Roadmap   \n",
              "244  Re: Spring Boot > 1.5 fails when camel-swagger...   \n",
              "247  Re: Spring Boot > 1.5 fails when camel-swagger...   \n",
              "249  Re: Spring Boot > 1.5 fails when camel-swagger...   \n",
              "120                           Re: FLOSS Weekly podcast   \n",
              "\n",
              "                                            Body_clean  Trace_ID  \\\n",
              "211   Subject: Re: Multiple from end points travers...         9   \n",
              "0     Subject: camel git commit: HeaderSelectorProd...         1   \n",
              "1     Subject: [1/6] camel git commit: Rename catal...         2   \n",
              "2     Subject: [2/6] camel git commit: Rename catal...         2   \n",
              "3     Subject: [3/6] camel git commit: Rename catal...         2   \n",
              "..                                                 ...       ...   \n",
              "118   Subject: Re: Camel 2.19 Roadmap To: dev@camel...        24   \n",
              "244   Subject: Re: Spring Boot > 1.5 fails when cam...        64   \n",
              "247   Subject: Re: Spring Boot > 1.5 fails when cam...        64   \n",
              "249   Subject: Re: Spring Boot > 1.5 fails when cam...        64   \n",
              "120   Subject: Re: FLOSS Weekly podcast To: dev@cam...        65   \n",
              "\n",
              "                       Action  \n",
              "211            ask a question  \n",
              "0              commit changes  \n",
              "1              commit changes  \n",
              "2              commit changes  \n",
              "3              commit changes  \n",
              "..                        ...  \n",
              "118  version release planning  \n",
              "244            ask a question  \n",
              "247           provide support  \n",
              "249            ask a question  \n",
              "120                 publicity  \n",
              "\n",
              "[250 rows x 8 columns]"
            ]
          },
          "metadata": {
            "tags": []
          },
          "execution_count": 15
        }
      ]
    }
  ]
}