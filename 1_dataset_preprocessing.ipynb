{
  "nbformat": 4,
  "nbformat_minor": 0,
  "metadata": {
    "kernelspec": {
      "display_name": "Python 3",
      "language": "python",
      "name": "python3"
    },
    "language_info": {
      "codemirror_mode": {
        "name": "ipython",
        "version": 3
      },
      "file_extension": ".py",
      "mimetype": "text/x-python",
      "name": "python",
      "nbconvert_exporter": "python",
      "pygments_lexer": "ipython3",
      "version": "3.9.4"
    },
    "colab": {
      "name": "1.dataset_preprocessing.ipynb",
      "provenance": [],
      "collapsed_sections": []
    }
  },
  "cells": [
    {
      "cell_type": "markdown",
      "metadata": {
        "id": "KIVKjvH32xZi"
      },
      "source": [
        "This notebook documents the preprocessing and feature engineering of the 250 emails' dataframe.\n",
        "\n",
        "Original emails first to be need cleansed and formatted into a dataframe using the notebook 0_apache_camel_email_dataset_extraction.ipynb. \n",
        "\n",
        "SpaCy (version \"en_core_web_sm\") and Sense2Vec must be installed. See https://spacy.io/usage and https://github.com/explosion/sense2vec for instructions."
      ]
    },
    {
      "cell_type": "code",
      "metadata": {
        "tags": [],
        "id": "5VzEagdX2xZ0"
      },
      "source": [
        "import_emails_path = \"data/camel_emails_final_na_clean.csv\" # Input CSV path for extracted emails and labels\n",
        "s2v_model_path = \"helpers/s2v\" # Input path to Sense2Vec folder\n",
        "save_path_final_df = \"data/camel_emails_emb_s2v.csv\" # Output CSV path for final preprocessed emails and labels"
      ],
      "execution_count": null,
      "outputs": []
    },
    {
      "cell_type": "markdown",
      "metadata": {
        "heading_collapsed": true,
        "id": "IfI5JKeW2xZ7"
      },
      "source": [
        "# Imports"
      ]
    },
    {
      "cell_type": "code",
      "metadata": {
        "hidden": true,
        "tags": [],
        "id": "RUBGZYRF2xZ9"
      },
      "source": [
        "import pandas as pd\n",
        "import numpy as np\n",
        "import spacy\n",
        "from sense2vec import Sense2VecComponent\n",
        "from sense2vec import Sense2Vec\n",
        "import csv\n",
        "import regex as re\n",
        "from matplotlib import pyplot as plt\n",
        "from sklearn.cluster import AgglomerativeClustering\n",
        "from scipy.cluster.hierarchy import dendrogram\n",
        "from collections import Counter\n",
        "from itertools import chain\n",
        "import numpy as np\n",
        "import copy\n",
        "import json\n",
        "from spacy.pipeline import Sentencizer\n",
        "import csv\n",
        "import random\n",
        "from sklearn.metrics.cluster import adjusted_mutual_info_score, adjusted_rand_score\n",
        "from sklearn.manifold import TSNE\n",
        "from sklearn.decomposition import PCA\n",
        "from scipy.cluster.hierarchy import fcluster, dendrogram, linkage\n",
        "from sklearn.metrics.pairwise import cosine_similarity\n",
        "import datetime\n",
        "\n",
        "s2v = Sense2Vec().from_disk(s2v_model_path)\n",
        "\n",
        "np.set_printoptions(suppress=True)"
      ],
      "execution_count": null,
      "outputs": []
    },
    {
      "cell_type": "markdown",
      "metadata": {
        "heading_collapsed": true,
        "id": "_ybaceEq2xaB"
      },
      "source": [
        "# Load data"
      ]
    },
    {
      "cell_type": "code",
      "metadata": {
        "hidden": true,
        "tags": [],
        "id": "G2jswUpy2xaC"
      },
      "source": [
        "emails = pd.read_csv(import_emails_path, quoting=csv.QUOTE_ALL)\n",
        "cols = ['Email_ID', 'Date', 'From', 'To', 'Subject', 'Body_clean', 'Workflow Label', 'Trace_ID', 'Actions', 'Accepted Traces', 'Action']\n",
        "emails = emails[cols]"
      ],
      "execution_count": null,
      "outputs": []
    },
    {
      "cell_type": "code",
      "metadata": {
        "hidden": true,
        "id": "Xicpnw2o2xaE",
        "outputId": "e620c92e-d9c5-412e-d682-507b751bd700"
      },
      "source": [
        "emails[['Email_ID', 'Date', 'From', 'To', 'Subject', 'Body_clean', 'Trace_ID', 'Action']].sort_values('Date')"
      ],
      "execution_count": null,
      "outputs": [
        {
          "output_type": "execute_result",
          "data": {
            "text/html": [
              "<div>\n",
              "<style scoped>\n",
              "    .dataframe tbody tr th:only-of-type {\n",
              "        vertical-align: middle;\n",
              "    }\n",
              "\n",
              "    .dataframe tbody tr th {\n",
              "        vertical-align: top;\n",
              "    }\n",
              "\n",
              "    .dataframe thead th {\n",
              "        text-align: right;\n",
              "    }\n",
              "</style>\n",
              "<table border=\"1\" class=\"dataframe\">\n",
              "  <thead>\n",
              "    <tr style=\"text-align: right;\">\n",
              "      <th></th>\n",
              "      <th>Email_ID</th>\n",
              "      <th>Date</th>\n",
              "      <th>From</th>\n",
              "      <th>To</th>\n",
              "      <th>Subject</th>\n",
              "      <th>Body_clean</th>\n",
              "      <th>Trace_ID</th>\n",
              "      <th>Action</th>\n",
              "    </tr>\n",
              "  </thead>\n",
              "  <tbody>\n",
              "    <tr>\n",
              "      <th>211</th>\n",
              "      <td>43</td>\n",
              "      <td>2017-04-14 10:15:23-07:00</td>\n",
              "      <td>revathykuberan@gmail.com</td>\n",
              "      <td>['users@camel.apache.org']</td>\n",
              "      <td>Re: Multiple from end points traversing to dif...</td>\n",
              "      <td>Subject: Re: Multiple from end points travers...</td>\n",
              "      <td>9</td>\n",
              "      <td>ask a question</td>\n",
              "    </tr>\n",
              "    <tr>\n",
              "      <th>0</th>\n",
              "      <td>1</td>\n",
              "      <td>2017-04-14 10:42:39+00:00</td>\n",
              "      <td>lburgazzoli@apache.org</td>\n",
              "      <td>['commits@camel.apache.org']</td>\n",
              "      <td>camel git commit: HeaderSelectorProducer to su...</td>\n",
              "      <td>Subject: camel git commit: HeaderSelectorProd...</td>\n",
              "      <td>1</td>\n",
              "      <td>commit changes</td>\n",
              "    </tr>\n",
              "    <tr>\n",
              "      <th>1</th>\n",
              "      <td>2</td>\n",
              "      <td>2017-04-14 10:52:55+00:00</td>\n",
              "      <td>davsclaus@apache.org</td>\n",
              "      <td>['commits@camel.apache.org']</td>\n",
              "      <td>[1/6] camel git commit: Rename catalog to runt...</td>\n",
              "      <td>Subject: [1/6] camel git commit: Rename catal...</td>\n",
              "      <td>2</td>\n",
              "      <td>commit changes</td>\n",
              "    </tr>\n",
              "    <tr>\n",
              "      <th>2</th>\n",
              "      <td>3</td>\n",
              "      <td>2017-04-14 10:52:56+00:00</td>\n",
              "      <td>davsclaus@apache.org</td>\n",
              "      <td>['commits@camel.apache.org']</td>\n",
              "      <td>[2/6] camel git commit: Rename catalog to runt...</td>\n",
              "      <td>Subject: [2/6] camel git commit: Rename catal...</td>\n",
              "      <td>2</td>\n",
              "      <td>commit changes</td>\n",
              "    </tr>\n",
              "    <tr>\n",
              "      <th>3</th>\n",
              "      <td>4</td>\n",
              "      <td>2017-04-14 10:52:57+00:00</td>\n",
              "      <td>davsclaus@apache.org</td>\n",
              "      <td>['commits@camel.apache.org']</td>\n",
              "      <td>[3/6] camel git commit: Rename catalog to runt...</td>\n",
              "      <td>Subject: [3/6] camel git commit: Rename catal...</td>\n",
              "      <td>2</td>\n",
              "      <td>commit changes</td>\n",
              "    </tr>\n",
              "    <tr>\n",
              "      <th>...</th>\n",
              "      <td>...</td>\n",
              "      <td>...</td>\n",
              "      <td>...</td>\n",
              "      <td>...</td>\n",
              "      <td>...</td>\n",
              "      <td>...</td>\n",
              "      <td>...</td>\n",
              "      <td>...</td>\n",
              "    </tr>\n",
              "    <tr>\n",
              "      <th>118</th>\n",
              "      <td>239</td>\n",
              "      <td>2017-04-19 14:21:57+02:00</td>\n",
              "      <td>lburgazzoli@gmail.com</td>\n",
              "      <td>['dev@camel.apache.org']</td>\n",
              "      <td>Re: Camel 2.19 Roadmap</td>\n",
              "      <td>Subject: Re: Camel 2.19 Roadmap To: dev@camel...</td>\n",
              "      <td>24</td>\n",
              "      <td>version release planning</td>\n",
              "    </tr>\n",
              "    <tr>\n",
              "      <th>244</th>\n",
              "      <td>242</td>\n",
              "      <td>2017-04-19 14:29:00+02:00</td>\n",
              "      <td>claus.ibsen@gmail.com</td>\n",
              "      <td>['users@camel.apache.org']</td>\n",
              "      <td>Re: Spring Boot &gt; 1.5 fails when camel-swagger...</td>\n",
              "      <td>Subject: Re: Spring Boot &gt; 1.5 fails when cam...</td>\n",
              "      <td>64</td>\n",
              "      <td>ask a question</td>\n",
              "    </tr>\n",
              "    <tr>\n",
              "      <th>247</th>\n",
              "      <td>247</td>\n",
              "      <td>2017-04-19 14:35:40+02:00</td>\n",
              "      <td>zoran@regvart.com</td>\n",
              "      <td>['users@camel.apache.org']</td>\n",
              "      <td>Re: Spring Boot &gt; 1.5 fails when camel-swagger...</td>\n",
              "      <td>Subject: Re: Spring Boot &gt; 1.5 fails when cam...</td>\n",
              "      <td>64</td>\n",
              "      <td>provide support</td>\n",
              "    </tr>\n",
              "    <tr>\n",
              "      <th>249</th>\n",
              "      <td>249</td>\n",
              "      <td>2017-04-19 15:27:36+02:00</td>\n",
              "      <td>claus.ibsen@gmail.com</td>\n",
              "      <td>['users@camel.apache.org']</td>\n",
              "      <td>Re: Spring Boot &gt; 1.5 fails when camel-swagger...</td>\n",
              "      <td>Subject: Re: Spring Boot &gt; 1.5 fails when cam...</td>\n",
              "      <td>64</td>\n",
              "      <td>ask a question</td>\n",
              "    </tr>\n",
              "    <tr>\n",
              "      <th>120</th>\n",
              "      <td>250</td>\n",
              "      <td>2017-04-19 15:27:37+02:00</td>\n",
              "      <td>zoran@regvart.com</td>\n",
              "      <td>['dev@camel.apache.org']</td>\n",
              "      <td>Re: FLOSS Weekly podcast</td>\n",
              "      <td>Subject: Re: FLOSS Weekly podcast To: dev@cam...</td>\n",
              "      <td>65</td>\n",
              "      <td>publicity</td>\n",
              "    </tr>\n",
              "  </tbody>\n",
              "</table>\n",
              "<p>250 rows × 8 columns</p>\n",
              "</div>"
            ],
            "text/plain": [
              "     Email_ID                       Date                      From  \\\n",
              "211        43  2017-04-14 10:15:23-07:00  revathykuberan@gmail.com   \n",
              "0           1  2017-04-14 10:42:39+00:00    lburgazzoli@apache.org   \n",
              "1           2  2017-04-14 10:52:55+00:00      davsclaus@apache.org   \n",
              "2           3  2017-04-14 10:52:56+00:00      davsclaus@apache.org   \n",
              "3           4  2017-04-14 10:52:57+00:00      davsclaus@apache.org   \n",
              "..        ...                        ...                       ...   \n",
              "118       239  2017-04-19 14:21:57+02:00     lburgazzoli@gmail.com   \n",
              "244       242  2017-04-19 14:29:00+02:00     claus.ibsen@gmail.com   \n",
              "247       247  2017-04-19 14:35:40+02:00         zoran@regvart.com   \n",
              "249       249  2017-04-19 15:27:36+02:00     claus.ibsen@gmail.com   \n",
              "120       250  2017-04-19 15:27:37+02:00         zoran@regvart.com   \n",
              "\n",
              "                               To  \\\n",
              "211    ['users@camel.apache.org']   \n",
              "0    ['commits@camel.apache.org']   \n",
              "1    ['commits@camel.apache.org']   \n",
              "2    ['commits@camel.apache.org']   \n",
              "3    ['commits@camel.apache.org']   \n",
              "..                            ...   \n",
              "118      ['dev@camel.apache.org']   \n",
              "244    ['users@camel.apache.org']   \n",
              "247    ['users@camel.apache.org']   \n",
              "249    ['users@camel.apache.org']   \n",
              "120      ['dev@camel.apache.org']   \n",
              "\n",
              "                                               Subject  \\\n",
              "211  Re: Multiple from end points traversing to dif...   \n",
              "0    camel git commit: HeaderSelectorProducer to su...   \n",
              "1    [1/6] camel git commit: Rename catalog to runt...   \n",
              "2    [2/6] camel git commit: Rename catalog to runt...   \n",
              "3    [3/6] camel git commit: Rename catalog to runt...   \n",
              "..                                                 ...   \n",
              "118                             Re: Camel 2.19 Roadmap   \n",
              "244  Re: Spring Boot > 1.5 fails when camel-swagger...   \n",
              "247  Re: Spring Boot > 1.5 fails when camel-swagger...   \n",
              "249  Re: Spring Boot > 1.5 fails when camel-swagger...   \n",
              "120                           Re: FLOSS Weekly podcast   \n",
              "\n",
              "                                            Body_clean  Trace_ID  \\\n",
              "211   Subject: Re: Multiple from end points travers...         9   \n",
              "0     Subject: camel git commit: HeaderSelectorProd...         1   \n",
              "1     Subject: [1/6] camel git commit: Rename catal...         2   \n",
              "2     Subject: [2/6] camel git commit: Rename catal...         2   \n",
              "3     Subject: [3/6] camel git commit: Rename catal...         2   \n",
              "..                                                 ...       ...   \n",
              "118   Subject: Re: Camel 2.19 Roadmap To: dev@camel...        24   \n",
              "244   Subject: Re: Spring Boot > 1.5 fails when cam...        64   \n",
              "247   Subject: Re: Spring Boot > 1.5 fails when cam...        64   \n",
              "249   Subject: Re: Spring Boot > 1.5 fails when cam...        64   \n",
              "120   Subject: Re: FLOSS Weekly podcast To: dev@cam...        65   \n",
              "\n",
              "                       Action  \n",
              "211            ask a question  \n",
              "0              commit changes  \n",
              "1              commit changes  \n",
              "2              commit changes  \n",
              "3              commit changes  \n",
              "..                        ...  \n",
              "118  version release planning  \n",
              "244            ask a question  \n",
              "247           provide support  \n",
              "249            ask a question  \n",
              "120                 publicity  \n",
              "\n",
              "[250 rows x 8 columns]"
            ]
          },
          "metadata": {
            "tags": []
          },
          "execution_count": 4
        }
      ]
    },
    {
      "cell_type": "markdown",
      "metadata": {
        "heading_collapsed": true,
        "id": "CTsUpAxG2xaK"
      },
      "source": [
        "# Preprocess data"
      ]
    },
    {
      "cell_type": "markdown",
      "metadata": {
        "id": "lA8eNpX-2Bv9"
      },
      "source": [
        "Extract domain name from sender email."
      ]
    },
    {
      "cell_type": "code",
      "metadata": {
        "id": "xF-jB1F72Bv-"
      },
      "source": [
        "emails['domain_w_tld'] = emails['From'].str.split('@').str[1]\n",
        "emails['domain'] = emails['domain_w_tld'].str.split('.').str[0]\n",
        "emails.drop(columns=['domain_w_tld'], inplace=True)"
      ],
      "execution_count": null,
      "outputs": []
    },
    {
      "cell_type": "markdown",
      "metadata": {
        "hidden": true,
        "id": "8q7y2fP62xaM"
      },
      "source": [
        "Replace missing body by subject line."
      ]
    },
    {
      "cell_type": "code",
      "metadata": {
        "hidden": true,
        "id": "bmDM9tvV2xaO"
      },
      "source": [
        "emails.loc[emails['Body_clean'].isna(), ['Body_clean']] = emails[emails['Body_clean'].isna()]['Subject']"
      ],
      "execution_count": null,
      "outputs": []
    },
    {
      "cell_type": "markdown",
      "metadata": {
        "hidden": true,
        "id": "lVeM7IJ12xaQ"
      },
      "source": [
        "Split body into sentences"
      ]
    },
    {
      "cell_type": "code",
      "metadata": {
        "code_folding": [],
        "hidden": true,
        "tags": [],
        "id": "d3DLrgGf2xaR"
      },
      "source": [
        "nlp = spacy.load(\"en_core_web_sm\")\n",
        "\n",
        "stop_chars = ['\\n', '\\n\\n', '!', '.', '?', '։', '؟', '۔', '܀', '܁', '܂', '߹', '।', '॥', '၊', '။', '።', '፧', '፨', '᙮', '᜵', '᜶', '᠃', '᠉', '᥄', '᥅', '᪨', '᪩', '᪪', '᪫', '᭚', '᭛', '᭞', '᭟', '᰻', '᰼', '᱾', '᱿', '‼', '‽', '⁇', '⁈', '⁉', '⸮', '⸼', '꓿', '꘎', '꘏', '꛳', '꛷', '꡶', '꡷', '꣎', '꣏', '꤯', '꧈', '꧉', '꩝', '꩞', '꩟', '꫰', '꫱', '꯫', '﹒', '﹖', '﹗', '！', '．', '？', '𐩖', '𐩗', '𑁇', '𑁈', '𑂾', '𑂿', '𑃀', '𑃁', '𑅁', '𑅂', '𑅃', '𑇅', '𑇆', '𑇍', '𑇞', '𑇟', '𑈸', '𑈹', '𑈻', '𑈼', '𑊩', '𑑋', '𑑌', '𑗂', '𑗃', '𑗉', '𑗊', '𑗋', '𑗌', '𑗍', '𑗎', '𑗏', '𑗐', '𑗑', '𑗒', '𑗓', '𑗔', '𑗕', '𑗖', '𑗗', '𑙁', '𑙂', '𑜼', '𑜽', '𑜾', '𑩂', '𑩃', '𑪛', '𑪜', '𑱁', '𑱂', '𖩮', '𖩯', '𖫵', '𖬷', '𖬸', '𖭄', '𛲟', '𝪈', '｡', '。']\n",
        "config = {\"punct_chars\": stop_chars}\n",
        "nlp.add_pipe(\"sentencizer\", config=config)\n",
        "\n",
        "def split_sentences(x):\n",
        "    '''\n",
        "        Extract sentences\n",
        "            x: the text from which sentences should be extracted\n",
        "    '''\n",
        "    doc = nlp(x)\n",
        "    sentences = [i for i in doc.sents]\n",
        "    return sentences"
      ],
      "execution_count": null,
      "outputs": []
    },
    {
      "cell_type": "code",
      "metadata": {
        "hidden": true,
        "tags": [],
        "id": "3vXgpVyy2xaX"
      },
      "source": [
        "emails['Body_unquoted'] = emails['Body_clean'].str.split('wrote:\\n>').str[0]\n",
        "emails['body_sentences'] = emails.Body_clean.map(lambda x : [''.join([token.text_with_ws for token in doc]) for doc in split_sentences(x)])\n",
        "emails['body_unquoted_sentences'] = emails.Body_unquoted.map(lambda x : [''.join([token.text_with_ws for token in doc]) for doc in split_sentences(x)])\n",
        "emails['subject_sentences'] = emails.Subject.map(lambda x : [''.join([token.text_with_ws for token in doc]) for doc in split_sentences(x)])\n",
        "emails['all_sentences'] = emails['subject_sentences'] + emails['body_sentences']"
      ],
      "execution_count": null,
      "outputs": []
    },
    {
      "cell_type": "markdown",
      "metadata": {
        "id": "Lm5Lma7V2xaa"
      },
      "source": [
        "Extract named entities"
      ]
    },
    {
      "cell_type": "code",
      "metadata": {
        "tags": [],
        "id": "N8fBk_2T2xab"
      },
      "source": [
        "def extract_named_entities(x, nlp):\n",
        "    doc = nlp(x)\n",
        "    return doc.ents"
      ],
      "execution_count": null,
      "outputs": []
    },
    {
      "cell_type": "code",
      "metadata": {
        "id": "gF634-L72xac"
      },
      "source": [
        "emails[\"named_entities_subject\"] = emails['Subject'].map(lambda x: extract_named_entities(x, nlp))\n",
        "emails[\"named_entities_body\"] = emails['Body_clean'].map(lambda x: extract_named_entities(x, nlp))\n",
        "emails['named_entities'] = emails['named_entities_subject'].astype(str) + emails['named_entities_body'].astype(str) "
      ],
      "execution_count": null,
      "outputs": []
    },
    {
      "cell_type": "markdown",
      "metadata": {
        "hidden": true,
        "id": "TEsgyuAe2xae"
      },
      "source": [
        "Compute emails embedding for the instance discovery baseline."
      ]
    },
    {
      "cell_type": "code",
      "metadata": {
        "code_folding": [
          3
        ],
        "hidden": true,
        "tags": [],
        "id": "46HBdE4z2xaf"
      },
      "source": [
        "nlp = spacy.load(\"en_core_web_sm\")\n",
        "\n",
        "def s2v_sentence_embedding(sentence):\n",
        "    \"\"\"\n",
        "        Embed a sentence using Sense2Vec model.\n",
        "            sentence: the sentence to be embedded.\n",
        "    \"\"\"\n",
        "    doc = nlp(sentence)\n",
        "    words_embeddings = []\n",
        "    for token in doc:\n",
        "        token_string = str(token.lemma_)\n",
        "        if token_string:\n",
        "            token_pos = str(token.pos_)\n",
        "            word_vector = s2v[str(token_string + \"|\" + token_pos)]\n",
        "            if (word_vector is not None): # Some words may not be embeddable.\n",
        "                words_embeddings.append(word_vector)\n",
        "    \n",
        "    words_embeddings = np.array(words_embeddings)\n",
        "    \n",
        "    if len(words_embeddings) > 0: # Some whole sentences may not embeddable\n",
        "        return np.mean(words_embeddings, axis=0)\n",
        "    else:\n",
        "        return np.nan\n",
        "    \n",
        "\n",
        "def email_embedding(sentences):\n",
        "    sentences_embeddings = []\n",
        "    for sentence in sentences:\n",
        "        sentence_emb = s2v_sentence_embedding(str(sentence))\n",
        "        if not np.any(np.isnan(sentence_emb)):\n",
        "            sentences_embeddings.append(sentence_emb)\n",
        "        \n",
        "    sentences_embeddings = np.array(sentences_embeddings)\n",
        "    \n",
        "    if len(sentences_embeddings) > 0:\n",
        "        return np.mean(sentences_embeddings, axis=0)\n",
        "    else:\n",
        "        return np.nan\n",
        "    \n",
        "\n",
        "def s2v_sentence_ne_embedding(sentence):\n",
        "    \"\"\"\n",
        "        Embed a sentence's named entities using Sense2Vec model.\n",
        "            sentence: the sentence from which NE need to be embedded.\n",
        "    \"\"\"\n",
        "    doc = nlp(sentence)\n",
        "    words_embeddings = []\n",
        "    for token in doc.ents:\n",
        "        token_string = str(token.lemma_)\n",
        "        if token_string:\n",
        "            token_pos = str(token.label_)\n",
        "            if token_pos != \"CARDINAL\": # Embed only string NE\n",
        "                word_vector = s2v[str(token_string + \"|\" + token_pos)]\n",
        "                if (word_vector is not None): # Some NE may not be embeddable.\n",
        "                    words_embeddings.append(word_vector)\n",
        "                    print(token_string)\n",
        "                    print(token_pos)\n",
        "                    print(word_vector)\n",
        "    \n",
        "    words_embeddings = np.array(words_embeddings)\n",
        "    \n",
        "    if len(words_embeddings) > 0: # Some whole sentences's NE may not embeddable\n",
        "        return np.mean(words_embeddings, axis=0)\n",
        "    else:\n",
        "        return np.nan\n",
        "    \n",
        "\n",
        "def email_ne_embedding(sentences):\n",
        "    sentences_embeddings = []\n",
        "    for sentence in sentences:\n",
        "        sentence_emb = s2v_sentence_embedding(str(sentence))\n",
        "        if not np.any(np.isnan(sentence_emb)):\n",
        "            sentences_embeddings.append(sentence_emb)\n",
        "        \n",
        "    sentences_embeddings = np.array(sentences_embeddings)\n",
        "    \n",
        "    if len(sentences_embeddings) > 0:\n",
        "        return np.mean(sentences_embeddings, axis=0)\n",
        "    else:\n",
        "        return np.nan"
      ],
      "execution_count": null,
      "outputs": []
    },
    {
      "cell_type": "code",
      "metadata": {
        "hidden": true,
        "tags": [],
        "id": "3OCCtq0o2xap",
        "outputId": "1a0f2171-1bdd-40f1-b698-5af2f5688995"
      },
      "source": [
        "emails[\"body_embedding\"] = emails.body_sentences.map(lambda x: email_embedding(x))\n",
        "emails[\"body_unquoted_embedding\"] = emails.body_unquoted_sentences.map(lambda x: email_embedding(x))\n",
        "emails[\"subject_embedding\"] = emails.subject_sentences.map(lambda x: email_embedding(x))\n",
        "emails['date_embedding'] = pd.to_datetime(emails.Date, utc=True)\n",
        "emails['date_embedding']  = pd.to_datetime(emails['date_embedding']).astype(int)/ 10**9\n",
        "emails['named_entities_embedding'] = emails.all_sentences.map(lambda x: email_ne_embedding(x))\n",
        "emails['named_entities_body_unquoted_embedding'] = emails.body_unquoted_sentences.map(lambda x: email_ne_embedding(x))\n",
        "emails['named_entities_subject_embedding'] = emails.subject_sentences.map(lambda x: email_ne_embedding(x))\n",
        "\n",
        "# Impute named entities'embeddings' NaN with average\n",
        "avg_ne_emb = emails['named_entities_embedding'].mean()\n",
        "nan_count = 0\n",
        "for row in emails.loc[emails['named_entities_embedding'].isnull(), 'named_entities_embedding'].index:\n",
        "    emails.at[row, 'named_entities_embedding'] = avg_ne_emb\n",
        "    nan_count = nan_count+1 \n",
        "print(\"All named entities embeddings imputed with average: \", str(nan_count))\n",
        "\n",
        "avg_ne_emb = emails['named_entities_body_unquoted_embedding'].mean()\n",
        "nan_count = 0\n",
        "for row in emails.loc[emails['named_entities_body_unquoted_embedding'].isnull(), 'named_entities_body_unquoted_embedding'].index:\n",
        "    emails.at[row, 'named_entities_body_unquoted_embedding'] = avg_ne_emb\n",
        "    nan_count = nan_count+1 \n",
        "print(\"Unquoted body named entities embeddings imputed with average: \", str(nan_count))\n",
        "\n",
        "avg_ne_emb = emails['named_entities_subject_embedding'].mean()\n",
        "nan_count = 0\n",
        "for row in emails.loc[emails['named_entities_subject_embedding'].isnull(), 'named_entities_subject_embedding'].index:\n",
        "    emails.at[row, 'named_entities_subject_embedding'] = avg_ne_emb\n",
        "    nan_count = nan_count+1 \n",
        "print(\"Subject line named entities embeddings imputed with average: \", str(nan_count))"
      ],
      "execution_count": null,
      "outputs": [
        {
          "output_type": "stream",
          "text": [
            "All named entities embeddings imputed with average:  0\n",
            "Unquoted body named entities embeddings imputed with average:  0\n",
            "Subject line named entities embeddings imputed with average:  0\n"
          ],
          "name": "stdout"
        }
      ]
    },
    {
      "cell_type": "markdown",
      "metadata": {
        "hidden": true,
        "id": "fe-kgHrc2xax"
      },
      "source": [
        "Compute emails embedding for the activity discovery baseline."
      ]
    },
    {
      "cell_type": "markdown",
      "metadata": {
        "heading_collapsed": true,
        "id": "7pY9vbRp2xaz"
      },
      "source": [
        "# Save and sanity check"
      ]
    },
    {
      "cell_type": "code",
      "metadata": {
        "code_folding": [],
        "hidden": true,
        "id": "81-0iLLX2xa1",
        "outputId": "ce0c37c0-59a0-4b0b-dbc1-d05ddee7861b"
      },
      "source": [
        "emails.to_csv(save_path_final_df, index=False, quoting=csv.QUOTE_ALL)\n",
        "df = pd.read_csv(save_path_final_df, quoting=csv.QUOTE_ALL)\n",
        "\n",
        "print(df.shape)"
      ],
      "execution_count": null,
      "outputs": [
        {
          "output_type": "stream",
          "text": [
            "(250, 26)\n"
          ],
          "name": "stdout"
        }
      ]
    },
    {
      "cell_type": "code",
      "metadata": {
        "hidden": true,
        "id": "9s7p2v2F2xa6",
        "outputId": "aa84ceaf-4b86-491f-bb05-9d6dfcd5a22b"
      },
      "source": [
        "df[['Email_ID', 'Date', 'From', 'To', 'Subject', 'Body_clean', 'Trace_ID', 'Action']].sort_values('Date')"
      ],
      "execution_count": null,
      "outputs": [
        {
          "output_type": "execute_result",
          "data": {
            "text/html": [
              "<div>\n",
              "<style scoped>\n",
              "    .dataframe tbody tr th:only-of-type {\n",
              "        vertical-align: middle;\n",
              "    }\n",
              "\n",
              "    .dataframe tbody tr th {\n",
              "        vertical-align: top;\n",
              "    }\n",
              "\n",
              "    .dataframe thead th {\n",
              "        text-align: right;\n",
              "    }\n",
              "</style>\n",
              "<table border=\"1\" class=\"dataframe\">\n",
              "  <thead>\n",
              "    <tr style=\"text-align: right;\">\n",
              "      <th></th>\n",
              "      <th>Email_ID</th>\n",
              "      <th>Date</th>\n",
              "      <th>From</th>\n",
              "      <th>To</th>\n",
              "      <th>Subject</th>\n",
              "      <th>Body_clean</th>\n",
              "      <th>Trace_ID</th>\n",
              "      <th>Action</th>\n",
              "    </tr>\n",
              "  </thead>\n",
              "  <tbody>\n",
              "    <tr>\n",
              "      <th>211</th>\n",
              "      <td>43</td>\n",
              "      <td>2017-04-14 10:15:23-07:00</td>\n",
              "      <td>revathykuberan@gmail.com</td>\n",
              "      <td>['users@camel.apache.org']</td>\n",
              "      <td>Re: Multiple from end points traversing to dif...</td>\n",
              "      <td>Subject: Re: Multiple from end points travers...</td>\n",
              "      <td>9</td>\n",
              "      <td>ask a question</td>\n",
              "    </tr>\n",
              "    <tr>\n",
              "      <th>0</th>\n",
              "      <td>1</td>\n",
              "      <td>2017-04-14 10:42:39+00:00</td>\n",
              "      <td>lburgazzoli@apache.org</td>\n",
              "      <td>['commits@camel.apache.org']</td>\n",
              "      <td>camel git commit: HeaderSelectorProducer to su...</td>\n",
              "      <td>Subject: camel git commit: HeaderSelectorProd...</td>\n",
              "      <td>1</td>\n",
              "      <td>commit changes</td>\n",
              "    </tr>\n",
              "    <tr>\n",
              "      <th>1</th>\n",
              "      <td>2</td>\n",
              "      <td>2017-04-14 10:52:55+00:00</td>\n",
              "      <td>davsclaus@apache.org</td>\n",
              "      <td>['commits@camel.apache.org']</td>\n",
              "      <td>[1/6] camel git commit: Rename catalog to runt...</td>\n",
              "      <td>Subject: [1/6] camel git commit: Rename catal...</td>\n",
              "      <td>2</td>\n",
              "      <td>commit changes</td>\n",
              "    </tr>\n",
              "    <tr>\n",
              "      <th>2</th>\n",
              "      <td>3</td>\n",
              "      <td>2017-04-14 10:52:56+00:00</td>\n",
              "      <td>davsclaus@apache.org</td>\n",
              "      <td>['commits@camel.apache.org']</td>\n",
              "      <td>[2/6] camel git commit: Rename catalog to runt...</td>\n",
              "      <td>Subject: [2/6] camel git commit: Rename catal...</td>\n",
              "      <td>2</td>\n",
              "      <td>commit changes</td>\n",
              "    </tr>\n",
              "    <tr>\n",
              "      <th>3</th>\n",
              "      <td>4</td>\n",
              "      <td>2017-04-14 10:52:57+00:00</td>\n",
              "      <td>davsclaus@apache.org</td>\n",
              "      <td>['commits@camel.apache.org']</td>\n",
              "      <td>[3/6] camel git commit: Rename catalog to runt...</td>\n",
              "      <td>Subject: [3/6] camel git commit: Rename catal...</td>\n",
              "      <td>2</td>\n",
              "      <td>commit changes</td>\n",
              "    </tr>\n",
              "    <tr>\n",
              "      <th>...</th>\n",
              "      <td>...</td>\n",
              "      <td>...</td>\n",
              "      <td>...</td>\n",
              "      <td>...</td>\n",
              "      <td>...</td>\n",
              "      <td>...</td>\n",
              "      <td>...</td>\n",
              "      <td>...</td>\n",
              "    </tr>\n",
              "    <tr>\n",
              "      <th>118</th>\n",
              "      <td>239</td>\n",
              "      <td>2017-04-19 14:21:57+02:00</td>\n",
              "      <td>lburgazzoli@gmail.com</td>\n",
              "      <td>['dev@camel.apache.org']</td>\n",
              "      <td>Re: Camel 2.19 Roadmap</td>\n",
              "      <td>Subject: Re: Camel 2.19 Roadmap To: dev@camel...</td>\n",
              "      <td>24</td>\n",
              "      <td>version release planning</td>\n",
              "    </tr>\n",
              "    <tr>\n",
              "      <th>244</th>\n",
              "      <td>242</td>\n",
              "      <td>2017-04-19 14:29:00+02:00</td>\n",
              "      <td>claus.ibsen@gmail.com</td>\n",
              "      <td>['users@camel.apache.org']</td>\n",
              "      <td>Re: Spring Boot &gt; 1.5 fails when camel-swagger...</td>\n",
              "      <td>Subject: Re: Spring Boot &gt; 1.5 fails when cam...</td>\n",
              "      <td>64</td>\n",
              "      <td>ask a question</td>\n",
              "    </tr>\n",
              "    <tr>\n",
              "      <th>247</th>\n",
              "      <td>247</td>\n",
              "      <td>2017-04-19 14:35:40+02:00</td>\n",
              "      <td>zoran@regvart.com</td>\n",
              "      <td>['users@camel.apache.org']</td>\n",
              "      <td>Re: Spring Boot &gt; 1.5 fails when camel-swagger...</td>\n",
              "      <td>Subject: Re: Spring Boot &gt; 1.5 fails when cam...</td>\n",
              "      <td>64</td>\n",
              "      <td>provide support</td>\n",
              "    </tr>\n",
              "    <tr>\n",
              "      <th>249</th>\n",
              "      <td>249</td>\n",
              "      <td>2017-04-19 15:27:36+02:00</td>\n",
              "      <td>claus.ibsen@gmail.com</td>\n",
              "      <td>['users@camel.apache.org']</td>\n",
              "      <td>Re: Spring Boot &gt; 1.5 fails when camel-swagger...</td>\n",
              "      <td>Subject: Re: Spring Boot &gt; 1.5 fails when cam...</td>\n",
              "      <td>64</td>\n",
              "      <td>ask a question</td>\n",
              "    </tr>\n",
              "    <tr>\n",
              "      <th>120</th>\n",
              "      <td>250</td>\n",
              "      <td>2017-04-19 15:27:37+02:00</td>\n",
              "      <td>zoran@regvart.com</td>\n",
              "      <td>['dev@camel.apache.org']</td>\n",
              "      <td>Re: FLOSS Weekly podcast</td>\n",
              "      <td>Subject: Re: FLOSS Weekly podcast To: dev@cam...</td>\n",
              "      <td>65</td>\n",
              "      <td>publicity</td>\n",
              "    </tr>\n",
              "  </tbody>\n",
              "</table>\n",
              "<p>250 rows × 8 columns</p>\n",
              "</div>"
            ],
            "text/plain": [
              "     Email_ID                       Date                      From  \\\n",
              "211        43  2017-04-14 10:15:23-07:00  revathykuberan@gmail.com   \n",
              "0           1  2017-04-14 10:42:39+00:00    lburgazzoli@apache.org   \n",
              "1           2  2017-04-14 10:52:55+00:00      davsclaus@apache.org   \n",
              "2           3  2017-04-14 10:52:56+00:00      davsclaus@apache.org   \n",
              "3           4  2017-04-14 10:52:57+00:00      davsclaus@apache.org   \n",
              "..        ...                        ...                       ...   \n",
              "118       239  2017-04-19 14:21:57+02:00     lburgazzoli@gmail.com   \n",
              "244       242  2017-04-19 14:29:00+02:00     claus.ibsen@gmail.com   \n",
              "247       247  2017-04-19 14:35:40+02:00         zoran@regvart.com   \n",
              "249       249  2017-04-19 15:27:36+02:00     claus.ibsen@gmail.com   \n",
              "120       250  2017-04-19 15:27:37+02:00         zoran@regvart.com   \n",
              "\n",
              "                               To  \\\n",
              "211    ['users@camel.apache.org']   \n",
              "0    ['commits@camel.apache.org']   \n",
              "1    ['commits@camel.apache.org']   \n",
              "2    ['commits@camel.apache.org']   \n",
              "3    ['commits@camel.apache.org']   \n",
              "..                            ...   \n",
              "118      ['dev@camel.apache.org']   \n",
              "244    ['users@camel.apache.org']   \n",
              "247    ['users@camel.apache.org']   \n",
              "249    ['users@camel.apache.org']   \n",
              "120      ['dev@camel.apache.org']   \n",
              "\n",
              "                                               Subject  \\\n",
              "211  Re: Multiple from end points traversing to dif...   \n",
              "0    camel git commit: HeaderSelectorProducer to su...   \n",
              "1    [1/6] camel git commit: Rename catalog to runt...   \n",
              "2    [2/6] camel git commit: Rename catalog to runt...   \n",
              "3    [3/6] camel git commit: Rename catalog to runt...   \n",
              "..                                                 ...   \n",
              "118                             Re: Camel 2.19 Roadmap   \n",
              "244  Re: Spring Boot > 1.5 fails when camel-swagger...   \n",
              "247  Re: Spring Boot > 1.5 fails when camel-swagger...   \n",
              "249  Re: Spring Boot > 1.5 fails when camel-swagger...   \n",
              "120                           Re: FLOSS Weekly podcast   \n",
              "\n",
              "                                            Body_clean  Trace_ID  \\\n",
              "211   Subject: Re: Multiple from end points travers...         9   \n",
              "0     Subject: camel git commit: HeaderSelectorProd...         1   \n",
              "1     Subject: [1/6] camel git commit: Rename catal...         2   \n",
              "2     Subject: [2/6] camel git commit: Rename catal...         2   \n",
              "3     Subject: [3/6] camel git commit: Rename catal...         2   \n",
              "..                                                 ...       ...   \n",
              "118   Subject: Re: Camel 2.19 Roadmap To: dev@camel...        24   \n",
              "244   Subject: Re: Spring Boot > 1.5 fails when cam...        64   \n",
              "247   Subject: Re: Spring Boot > 1.5 fails when cam...        64   \n",
              "249   Subject: Re: Spring Boot > 1.5 fails when cam...        64   \n",
              "120   Subject: Re: FLOSS Weekly podcast To: dev@cam...        65   \n",
              "\n",
              "                       Action  \n",
              "211            ask a question  \n",
              "0              commit changes  \n",
              "1              commit changes  \n",
              "2              commit changes  \n",
              "3              commit changes  \n",
              "..                        ...  \n",
              "118  version release planning  \n",
              "244            ask a question  \n",
              "247           provide support  \n",
              "249            ask a question  \n",
              "120                 publicity  \n",
              "\n",
              "[250 rows x 8 columns]"
            ]
          },
          "metadata": {
            "tags": []
          },
          "execution_count": 14
        }
      ]
    }
  ]
}